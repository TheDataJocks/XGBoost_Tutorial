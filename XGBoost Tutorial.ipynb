{
 "cells": [
  {
   "cell_type": "code",
   "execution_count": 1,
   "id": "a7646254",
   "metadata": {},
   "outputs": [],
   "source": [
    "import pandas as pd\n",
    "from sklearn.model_selection import train_test_split\n",
    "import xgboost as xgb\n",
    "from xgboost import XGBRegressor as xgb_model\n",
    "import numpy as np"
   ]
  },
  {
   "cell_type": "markdown",
   "id": "aa83b00a",
   "metadata": {},
   "source": [
    "First lets load the data, split the labels from the features, and split into training and testing sets. We also need to convert strings to categorical type."
   ]
  },
  {
   "cell_type": "code",
   "execution_count": 2,
   "id": "cb907d46",
   "metadata": {},
   "outputs": [],
   "source": [
    "data = pd.read_csv('./combined_since_2010.csv')\n",
    "#for now, lets remove some columns which aren't stats\n",
    "X=data.drop(columns=[\"Team\",\"Year\",\"POff_W\",\"Rk\"])\n",
    "Y= data[\"POff_W\"]\n",
    "X_Train,X_Test,Y_Train,Y_Test = train_test_split(X,Y,test_size=0.25)"
   ]
  },
  {
   "cell_type": "markdown",
   "id": "33ffc98f",
   "metadata": {},
   "source": [
    "Now, we need to create an XGBoost model and tell is to learn with the training data!"
   ]
  },
  {
   "cell_type": "code",
   "execution_count": 3,
   "id": "d4959d41",
   "metadata": {},
   "outputs": [
    {
     "data": {
      "text/plain": [
       "XGBRegressor(base_score=None, booster=None, callbacks=None,\n",
       "             colsample_bylevel=None, colsample_bynode=None,\n",
       "             colsample_bytree=None, early_stopping_rounds=None,\n",
       "             enable_categorical=False, eval_metric=None, feature_types=None,\n",
       "             gamma=None, gpu_id=None, grow_policy=None, importance_type=None,\n",
       "             interaction_constraints=None, learning_rate=None, max_bin=None,\n",
       "             max_cat_threshold=None, max_cat_to_onehot=None,\n",
       "             max_delta_step=None, max_depth=None, max_leaves=None,\n",
       "             min_child_weight=None, missing=nan, monotone_constraints=None,\n",
       "             n_estimators=100, n_jobs=None, num_parallel_tree=None,\n",
       "             predictor=None, random_state=None, ...)"
      ]
     },
     "execution_count": 3,
     "metadata": {},
     "output_type": "execute_result"
    }
   ],
   "source": [
    "my_xgb_model = xgb_model()\n",
    "my_xgb_model.fit(X_Train,Y_Train)"
   ]
  },
  {
   "cell_type": "markdown",
   "id": "ab2b3e19",
   "metadata": {},
   "source": [
    "Now, lets see how our model does. Let's compare to a naive multilinear regression for reference"
   ]
  },
  {
   "cell_type": "code",
   "execution_count": 4,
   "id": "5994204c",
   "metadata": {},
   "outputs": [
    {
     "name": "stdout",
     "output_type": "stream",
     "text": [
      "XGB MSE: 13.887929983063435\n",
      "Linear MSE: 12.322448299313507\n"
     ]
    }
   ],
   "source": [
    "xgb_preds=my_xgb_model.predict(X_Test)\n",
    "\n",
    "from sklearn.linear_model import LinearRegression\n",
    "from sklearn.metrics import mean_squared_error\n",
    "\n",
    "my_linear_model = LinearRegression()\n",
    "my_linear_model.fit(X_Train,Y_Train)\n",
    "linear_preds = my_linear_model.predict(X_Test)\n",
    "\n",
    "xgb_err = mean_squared_error(xgb_preds,Y_Test)\n",
    "linear_err = mean_squared_error(linear_preds,Y_Test)\n",
    "print(\"XGB MSE: \"+str(xgb_err))\n",
    "print(\"Linear MSE: \" + str(linear_err))"
   ]
  },
  {
   "cell_type": "markdown",
   "id": "448cabba",
   "metadata": {},
   "source": [
    "We need to see if the model is overfitting, for that we should compare the models' performances on the test set!"
   ]
  },
  {
   "cell_type": "code",
   "execution_count": 5,
   "id": "069aa755",
   "metadata": {},
   "outputs": [
    {
     "name": "stdout",
     "output_type": "stream",
     "text": [
      "XGB MSE: 5.137047996458348e-07\n",
      "Linear MSE: 8.740863800600735\n"
     ]
    }
   ],
   "source": [
    "linear_train_pred = my_linear_model.predict(X_Train)\n",
    "xgb_train_pred = my_xgb_model.predict(X_Train)\n",
    "xgb_train_err = mean_squared_error(xgb_train_pred,Y_Train)\n",
    "linear_train_err = mean_squared_error(linear_train_pred,Y_Train)\n",
    "print(\"XGB MSE: \"+str(xgb_train_err))\n",
    "print(\"Linear MSE: \" + str(linear_train_err))"
   ]
  },
  {
   "cell_type": "markdown",
   "id": "75c578e9",
   "metadata": {},
   "source": [
    "The model fits the training data perfectly but doesn't do all that well on the test set. This means we're probably over fitting. Let's try to introduce some heavier regularization. First let's try limiting max_depth of a tree in each of the classifiers in the random forest model. You can play with changing these values!"
   ]
  },
  {
   "cell_type": "code",
   "execution_count": 6,
   "id": "e59428e1",
   "metadata": {},
   "outputs": [
    {
     "name": "stdout",
     "output_type": "stream",
     "text": [
      "Depth Limited Test MSE: 13.565971544918723\n",
      "Depth Limited Train MSE: 1.261341733484448\n",
      "Linear Baseline: 12.322448299313507\n"
     ]
    }
   ],
   "source": [
    "depth_limited = xgb_model(max_depth=2)\n",
    "depth_limited.fit(X_Train,Y_Train)\n",
    "depth_limited_train_err = mean_squared_error(depth_limited.predict(X_Train),Y_Train)\n",
    "depth_limited_test_err = mean_squared_error(depth_limited.predict(X_Test),Y_Test)\n",
    "print('Depth Limited Test MSE: '+str(depth_limited_test_err))\n",
    "print('Depth Limited Train MSE: '+str(depth_limited_train_err))\n",
    "print('Linear Baseline: '+str(linear_err))"
   ]
  },
  {
   "cell_type": "markdown",
   "id": "bb898470",
   "metadata": {},
   "source": [
    "Changing the training rate can also prevent overfitting. I don't find much benefit from changing this parameter"
   ]
  },
  {
   "cell_type": "code",
   "execution_count": 7,
   "id": "30696609",
   "metadata": {},
   "outputs": [
    {
     "name": "stdout",
     "output_type": "stream",
     "text": [
      "Slow Learner Test MSE: 15.082310654735343\n",
      "Slow Learner Train MSE: 5.582341266142695e-07\n",
      "Linear Baseline: 12.322448299313507\n"
     ]
    }
   ],
   "source": [
    "slow_learn = xgb_model(eta=0.4)\n",
    "slow_learn.fit(X_Train,Y_Train)\n",
    "slow_learn_train_err = mean_squared_error(slow_learn.predict(X_Train),Y_Train)\n",
    "slow_learn_test_err = mean_squared_error(slow_learn.predict(X_Test),Y_Test)\n",
    "print('Slow Learner Test MSE: '+str(slow_learn_test_err))\n",
    "print('Slow Learner Train MSE: '+str(slow_learn_train_err))\n",
    "print('Linear Baseline: '+str(linear_err))"
   ]
  },
  {
   "cell_type": "markdown",
   "id": "f44acf72",
   "metadata": {},
   "source": [
    "XGBoost allows for both ride and lasso-type regularization penalties. Let's try both in the next block. Default valeus are lambda=1 and alpha=0. To more heavily regularize, we want to increase these valeus"
   ]
  },
  {
   "cell_type": "code",
   "execution_count": 8,
   "id": "ab886caa",
   "metadata": {},
   "outputs": [
    {
     "name": "stdout",
     "output_type": "stream",
     "text": [
      "Ridge Test MSE: 15.144644786493494\n",
      "Ridge Train MSE: 0.0006792371655470172\n",
      "Linear Baseline: 12.322448299313507\n",
      "Lasso Test MSE: 15.500357415727535\n",
      "Lasso Train MSE: 0.08191292315623806\n"
     ]
    }
   ],
   "source": [
    "ridge = xgb_model(reg_lambda=10)\n",
    "ridge.fit(X_Train,Y_Train)\n",
    "ridge_train_err = mean_squared_error(ridge.predict(X_Train),Y_Train)\n",
    "ridge_test_err = mean_squared_error(ridge.predict(X_Test),Y_Test)\n",
    "print('Ridge Test MSE: '+str(ridge_test_err))\n",
    "print('Ridge Train MSE: '+str(ridge_train_err))\n",
    "print('Linear Baseline: '+str(linear_err))\n",
    "\n",
    "lasso = xgb_model(reg_alpha=3)\n",
    "lasso.fit(X_Train,Y_Train)\n",
    "lasso_train_err = mean_squared_error(lasso.predict(X_Train),Y_Train)\n",
    "lasso_test_err = mean_squared_error(lasso.predict(X_Test),Y_Test)\n",
    "print('Lasso Test MSE: '+str(lasso_test_err))\n",
    "print('Lasso Train MSE: '+str(lasso_train_err))"
   ]
  },
  {
   "cell_type": "markdown",
   "id": "612039cb",
   "metadata": {},
   "source": [
    "What if we use the linear model's output as a feature in our classifier? This is an example of \"feature engineering\". "
   ]
  },
  {
   "cell_type": "code",
   "execution_count": 11,
   "id": "4de7ecfb",
   "metadata": {},
   "outputs": [
    {
     "name": "stdout",
     "output_type": "stream",
     "text": [
      "Lasso Test MSE: 9.459530934783102\n",
      "Lasso Train MSE: 5.342420226585526e-07\n",
      "Linear Baseline: 12.322448299313507\n"
     ]
    }
   ],
   "source": [
    "data['Linear_Model']=my_linear_model.predict(X)\n",
    "new_X=data.drop(columns=[\"Team\",\"Year\",\"POff_W\",\"Rk\"])\n",
    "new_X_Train,new_X_Test,new_Y_Train,new_Y_Test = train_test_split(new_X,Y,test_size=0.25)\n",
    "feature_engineered_model = xgb_model()\n",
    "feature_engineered_model.fit(new_X_Train,new_Y_Train)\n",
    "feature_engineered_test_err =mean_squared_error(feature_engineered_model.predict(new_X_Test),new_Y_Test)\n",
    "feature_engineered_train_err =mean_squared_error(feature_engineered_model.predict(new_X_Train),new_Y_Train)\n",
    "print('Feature Engineering Test MSE: '+str(feature_engineered_test_err))\n",
    "print('Feature Engineering Train MSE: '+str(feature_engineered_train_err))\n",
    "print('Linear Baseline: '+str(linear_err))"
   ]
  },
  {
   "cell_type": "markdown",
   "id": "30e5b4d2",
   "metadata": {},
   "source": [
    "We want to check which features actually mattered. Notice how half of the importance comes from the linear model, other important parameters are 3P% and rebounds"
   ]
  },
  {
   "cell_type": "code",
   "execution_count": 16,
   "id": "15b53d48",
   "metadata": {},
   "outputs": [
    {
     "data": {
      "text/html": [
       "<div>\n",
       "<style scoped>\n",
       "    .dataframe tbody tr th:only-of-type {\n",
       "        vertical-align: middle;\n",
       "    }\n",
       "\n",
       "    .dataframe tbody tr th {\n",
       "        vertical-align: top;\n",
       "    }\n",
       "\n",
       "    .dataframe thead th {\n",
       "        text-align: right;\n",
       "    }\n",
       "</style>\n",
       "<table border=\"1\" class=\"dataframe\">\n",
       "  <thead>\n",
       "    <tr style=\"text-align: right;\">\n",
       "      <th></th>\n",
       "      <th>Feature</th>\n",
       "      <th>Importance</th>\n",
       "    </tr>\n",
       "  </thead>\n",
       "  <tbody>\n",
       "    <tr>\n",
       "      <th>0</th>\n",
       "      <td>G</td>\n",
       "      <td>0.012184</td>\n",
       "    </tr>\n",
       "    <tr>\n",
       "      <th>1</th>\n",
       "      <td>MP</td>\n",
       "      <td>0.010472</td>\n",
       "    </tr>\n",
       "    <tr>\n",
       "      <th>2</th>\n",
       "      <td>FG</td>\n",
       "      <td>0.005122</td>\n",
       "    </tr>\n",
       "    <tr>\n",
       "      <th>3</th>\n",
       "      <td>FGA</td>\n",
       "      <td>0.011676</td>\n",
       "    </tr>\n",
       "    <tr>\n",
       "      <th>4</th>\n",
       "      <td>FG%</td>\n",
       "      <td>0.034957</td>\n",
       "    </tr>\n",
       "    <tr>\n",
       "      <th>5</th>\n",
       "      <td>3P</td>\n",
       "      <td>0.024438</td>\n",
       "    </tr>\n",
       "    <tr>\n",
       "      <th>6</th>\n",
       "      <td>3PA</td>\n",
       "      <td>0.000486</td>\n",
       "    </tr>\n",
       "    <tr>\n",
       "      <th>7</th>\n",
       "      <td>3P%</td>\n",
       "      <td>0.045822</td>\n",
       "    </tr>\n",
       "    <tr>\n",
       "      <th>8</th>\n",
       "      <td>2P</td>\n",
       "      <td>0.007207</td>\n",
       "    </tr>\n",
       "    <tr>\n",
       "      <th>9</th>\n",
       "      <td>2PA</td>\n",
       "      <td>0.031971</td>\n",
       "    </tr>\n",
       "    <tr>\n",
       "      <th>10</th>\n",
       "      <td>2P%</td>\n",
       "      <td>0.025297</td>\n",
       "    </tr>\n",
       "    <tr>\n",
       "      <th>11</th>\n",
       "      <td>FT</td>\n",
       "      <td>0.010312</td>\n",
       "    </tr>\n",
       "    <tr>\n",
       "      <th>12</th>\n",
       "      <td>FTA</td>\n",
       "      <td>0.005414</td>\n",
       "    </tr>\n",
       "    <tr>\n",
       "      <th>13</th>\n",
       "      <td>FT%</td>\n",
       "      <td>0.043327</td>\n",
       "    </tr>\n",
       "    <tr>\n",
       "      <th>14</th>\n",
       "      <td>ORB</td>\n",
       "      <td>0.028297</td>\n",
       "    </tr>\n",
       "    <tr>\n",
       "      <th>15</th>\n",
       "      <td>DRB</td>\n",
       "      <td>0.008322</td>\n",
       "    </tr>\n",
       "    <tr>\n",
       "      <th>16</th>\n",
       "      <td>TRB</td>\n",
       "      <td>0.073923</td>\n",
       "    </tr>\n",
       "    <tr>\n",
       "      <th>17</th>\n",
       "      <td>AST</td>\n",
       "      <td>0.019344</td>\n",
       "    </tr>\n",
       "    <tr>\n",
       "      <th>18</th>\n",
       "      <td>STL</td>\n",
       "      <td>0.058180</td>\n",
       "    </tr>\n",
       "    <tr>\n",
       "      <th>19</th>\n",
       "      <td>BLK</td>\n",
       "      <td>0.016575</td>\n",
       "    </tr>\n",
       "    <tr>\n",
       "      <th>20</th>\n",
       "      <td>TOV</td>\n",
       "      <td>0.016534</td>\n",
       "    </tr>\n",
       "    <tr>\n",
       "      <th>21</th>\n",
       "      <td>PF</td>\n",
       "      <td>0.041399</td>\n",
       "    </tr>\n",
       "    <tr>\n",
       "      <th>22</th>\n",
       "      <td>PTS</td>\n",
       "      <td>0.010506</td>\n",
       "    </tr>\n",
       "    <tr>\n",
       "      <th>23</th>\n",
       "      <td>Linear_Model</td>\n",
       "      <td>0.458235</td>\n",
       "    </tr>\n",
       "  </tbody>\n",
       "</table>\n",
       "</div>"
      ],
      "text/plain": [
       "         Feature  Importance\n",
       "0              G    0.012184\n",
       "1             MP    0.010472\n",
       "2             FG    0.005122\n",
       "3            FGA    0.011676\n",
       "4            FG%    0.034957\n",
       "5             3P    0.024438\n",
       "6            3PA    0.000486\n",
       "7            3P%    0.045822\n",
       "8             2P    0.007207\n",
       "9            2PA    0.031971\n",
       "10           2P%    0.025297\n",
       "11            FT    0.010312\n",
       "12           FTA    0.005414\n",
       "13           FT%    0.043327\n",
       "14           ORB    0.028297\n",
       "15           DRB    0.008322\n",
       "16           TRB    0.073923\n",
       "17           AST    0.019344\n",
       "18           STL    0.058180\n",
       "19           BLK    0.016575\n",
       "20           TOV    0.016534\n",
       "21            PF    0.041399\n",
       "22           PTS    0.010506\n",
       "23  Linear_Model    0.458235"
      ]
     },
     "execution_count": 16,
     "metadata": {},
     "output_type": "execute_result"
    }
   ],
   "source": [
    "importances=pd.DataFrame({'Feature':feature_engineered_model.get_booster().feature_names,'Importance':feature_engineered_model.feature_importances_})\n",
    "importances"
   ]
  },
  {
   "cell_type": "markdown",
   "id": "ce8fdfae",
   "metadata": {},
   "source": [
    "Finally, lets see how the model works with this year's data. Who are the favorites?"
   ]
  },
  {
   "cell_type": "code",
   "execution_count": 19,
   "id": "8c567f2a",
   "metadata": {},
   "outputs": [
    {
     "data": {
      "text/html": [
       "<div>\n",
       "<style scoped>\n",
       "    .dataframe tbody tr th:only-of-type {\n",
       "        vertical-align: middle;\n",
       "    }\n",
       "\n",
       "    .dataframe tbody tr th {\n",
       "        vertical-align: top;\n",
       "    }\n",
       "\n",
       "    .dataframe thead th {\n",
       "        text-align: right;\n",
       "    }\n",
       "</style>\n",
       "<table border=\"1\" class=\"dataframe\">\n",
       "  <thead>\n",
       "    <tr style=\"text-align: right;\">\n",
       "      <th></th>\n",
       "      <th>Team</th>\n",
       "      <th>Predicted Playoff Wins</th>\n",
       "    </tr>\n",
       "  </thead>\n",
       "  <tbody>\n",
       "    <tr>\n",
       "      <th>0</th>\n",
       "      <td>Sacramento Kings*</td>\n",
       "      <td>7.871833</td>\n",
       "    </tr>\n",
       "    <tr>\n",
       "      <th>1</th>\n",
       "      <td>Golden State Warriors*</td>\n",
       "      <td>8.713643</td>\n",
       "    </tr>\n",
       "    <tr>\n",
       "      <th>2</th>\n",
       "      <td>Atlanta Hawks*</td>\n",
       "      <td>0.425932</td>\n",
       "    </tr>\n",
       "    <tr>\n",
       "      <th>3</th>\n",
       "      <td>Boston Celtics*</td>\n",
       "      <td>3.335354</td>\n",
       "    </tr>\n",
       "    <tr>\n",
       "      <th>4</th>\n",
       "      <td>Oklahoma City Thunder*</td>\n",
       "      <td>0.082005</td>\n",
       "    </tr>\n",
       "    <tr>\n",
       "      <th>5</th>\n",
       "      <td>Los Angeles Lakers*</td>\n",
       "      <td>0.744034</td>\n",
       "    </tr>\n",
       "    <tr>\n",
       "      <th>6</th>\n",
       "      <td>Utah Jazz</td>\n",
       "      <td>4.616570</td>\n",
       "    </tr>\n",
       "    <tr>\n",
       "      <th>7</th>\n",
       "      <td>Memphis Grizzlies*</td>\n",
       "      <td>0.720668</td>\n",
       "    </tr>\n",
       "    <tr>\n",
       "      <th>8</th>\n",
       "      <td>Milwaukee Bucks*</td>\n",
       "      <td>7.052516</td>\n",
       "    </tr>\n",
       "    <tr>\n",
       "      <th>9</th>\n",
       "      <td>Indiana Pacers</td>\n",
       "      <td>-0.068852</td>\n",
       "    </tr>\n",
       "    <tr>\n",
       "      <th>10</th>\n",
       "      <td>New York Knicks*</td>\n",
       "      <td>2.392810</td>\n",
       "    </tr>\n",
       "    <tr>\n",
       "      <th>11</th>\n",
       "      <td>Denver Nuggets*</td>\n",
       "      <td>11.921287</td>\n",
       "    </tr>\n",
       "    <tr>\n",
       "      <th>12</th>\n",
       "      <td>Minnesota Timberwolves*</td>\n",
       "      <td>2.132505</td>\n",
       "    </tr>\n",
       "    <tr>\n",
       "      <th>13</th>\n",
       "      <td>Philadelphia 76ers*</td>\n",
       "      <td>11.945507</td>\n",
       "    </tr>\n",
       "    <tr>\n",
       "      <th>14</th>\n",
       "      <td>New Orleans Pelicans*</td>\n",
       "      <td>4.869076</td>\n",
       "    </tr>\n",
       "    <tr>\n",
       "      <th>15</th>\n",
       "      <td>Dallas Mavericks</td>\n",
       "      <td>7.645616</td>\n",
       "    </tr>\n",
       "    <tr>\n",
       "      <th>16</th>\n",
       "      <td>Phoenix Suns*</td>\n",
       "      <td>0.188301</td>\n",
       "    </tr>\n",
       "    <tr>\n",
       "      <th>17</th>\n",
       "      <td>Los Angeles Clippers*</td>\n",
       "      <td>4.148991</td>\n",
       "    </tr>\n",
       "    <tr>\n",
       "      <th>18</th>\n",
       "      <td>Portland Trail Blazers</td>\n",
       "      <td>1.859365</td>\n",
       "    </tr>\n",
       "    <tr>\n",
       "      <th>19</th>\n",
       "      <td>Brooklyn Nets*</td>\n",
       "      <td>4.627194</td>\n",
       "    </tr>\n",
       "    <tr>\n",
       "      <th>20</th>\n",
       "      <td>Washington Wizards</td>\n",
       "      <td>5.477561</td>\n",
       "    </tr>\n",
       "    <tr>\n",
       "      <th>21</th>\n",
       "      <td>Chicago Bulls*</td>\n",
       "      <td>2.891684</td>\n",
       "    </tr>\n",
       "    <tr>\n",
       "      <th>22</th>\n",
       "      <td>San Antonio Spurs</td>\n",
       "      <td>0.342019</td>\n",
       "    </tr>\n",
       "    <tr>\n",
       "      <th>23</th>\n",
       "      <td>Toronto Raptors*</td>\n",
       "      <td>2.504802</td>\n",
       "    </tr>\n",
       "    <tr>\n",
       "      <th>24</th>\n",
       "      <td>Cleveland Cavaliers*</td>\n",
       "      <td>4.757230</td>\n",
       "    </tr>\n",
       "    <tr>\n",
       "      <th>25</th>\n",
       "      <td>Orlando Magic</td>\n",
       "      <td>0.749414</td>\n",
       "    </tr>\n",
       "    <tr>\n",
       "      <th>26</th>\n",
       "      <td>Charlotte Hornets</td>\n",
       "      <td>0.257140</td>\n",
       "    </tr>\n",
       "    <tr>\n",
       "      <th>27</th>\n",
       "      <td>Houston Rockets</td>\n",
       "      <td>0.492815</td>\n",
       "    </tr>\n",
       "    <tr>\n",
       "      <th>28</th>\n",
       "      <td>Detroit Pistons</td>\n",
       "      <td>0.120800</td>\n",
       "    </tr>\n",
       "    <tr>\n",
       "      <th>29</th>\n",
       "      <td>Miami Heat*</td>\n",
       "      <td>1.535289</td>\n",
       "    </tr>\n",
       "  </tbody>\n",
       "</table>\n",
       "</div>"
      ],
      "text/plain": [
       "                       Team  Predicted Playoff Wins\n",
       "0         Sacramento Kings*                7.871833\n",
       "1    Golden State Warriors*                8.713643\n",
       "2            Atlanta Hawks*                0.425932\n",
       "3           Boston Celtics*                3.335354\n",
       "4    Oklahoma City Thunder*                0.082005\n",
       "5       Los Angeles Lakers*                0.744034\n",
       "6                 Utah Jazz                4.616570\n",
       "7        Memphis Grizzlies*                0.720668\n",
       "8          Milwaukee Bucks*                7.052516\n",
       "9            Indiana Pacers               -0.068852\n",
       "10         New York Knicks*                2.392810\n",
       "11          Denver Nuggets*               11.921287\n",
       "12  Minnesota Timberwolves*                2.132505\n",
       "13      Philadelphia 76ers*               11.945507\n",
       "14    New Orleans Pelicans*                4.869076\n",
       "15         Dallas Mavericks                7.645616\n",
       "16            Phoenix Suns*                0.188301\n",
       "17    Los Angeles Clippers*                4.148991\n",
       "18   Portland Trail Blazers                1.859365\n",
       "19           Brooklyn Nets*                4.627194\n",
       "20       Washington Wizards                5.477561\n",
       "21           Chicago Bulls*                2.891684\n",
       "22        San Antonio Spurs                0.342019\n",
       "23         Toronto Raptors*                2.504802\n",
       "24     Cleveland Cavaliers*                4.757230\n",
       "25            Orlando Magic                0.749414\n",
       "26        Charlotte Hornets                0.257140\n",
       "27          Houston Rockets                0.492815\n",
       "28          Detroit Pistons                0.120800\n",
       "29              Miami Heat*                1.535289"
      ]
     },
     "execution_count": 19,
     "metadata": {},
     "output_type": "execute_result"
    }
   ],
   "source": [
    "data23=pd.read_csv('./2023.csv')\n",
    "teams = data23[\"Team\"] #for later\n",
    "data23=data23.drop(columns=[\"Rk\",\"Team\"])\n",
    "linear23_pred = my_linear_model.predict(data23)\n",
    "data23[\"Linear_Model\"]=linear23_pred\n",
    "this_year_preds = feature_engineered_model.predict(data23)\n",
    "preds = pd.DataFrame({'Team':teams,'Predicted Playoff Wins':this_year_preds})\n",
    "preds"
   ]
  },
  {
   "cell_type": "code",
   "execution_count": null,
   "id": "4e33d424",
   "metadata": {},
   "outputs": [],
   "source": []
  }
 ],
 "metadata": {
  "kernelspec": {
   "display_name": "Python 3 (ipykernel)",
   "language": "python",
   "name": "python3"
  },
  "language_info": {
   "codemirror_mode": {
    "name": "ipython",
    "version": 3
   },
   "file_extension": ".py",
   "mimetype": "text/x-python",
   "name": "python",
   "nbconvert_exporter": "python",
   "pygments_lexer": "ipython3",
   "version": "3.9.13"
  }
 },
 "nbformat": 4,
 "nbformat_minor": 5
}
